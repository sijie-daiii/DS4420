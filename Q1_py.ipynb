{
 "cells": [
  {
   "cell_type": "code",
   "execution_count": 1,
   "id": "3d688923",
   "metadata": {},
   "outputs": [
    {
     "name": "stdout",
     "output_type": "stream",
     "text": [
      "Intel MKL WARNING: Support of Intel(R) Streaming SIMD Extensions 4.2 (Intel(R) SSE4.2) enabled only processors has been deprecated. Intel oneAPI Math Kernel Library 2025.0 will require Intel(R) Advanced Vector Extensions (Intel(R) AVX) instructions.\n",
      "Intel MKL WARNING: Support of Intel(R) Streaming SIMD Extensions 4.2 (Intel(R) SSE4.2) enabled only processors has been deprecated. Intel oneAPI Math Kernel Library 2025.0 will require Intel(R) Advanced Vector Extensions (Intel(R) AVX) instructions.\n"
     ]
    }
   ],
   "source": [
    "import pandas as pd\n",
    "from math import comb"
   ]
  },
  {
   "cell_type": "markdown",
   "id": "44ff0829",
   "metadata": {},
   "source": [
    "### (a) Discussion\n",
    "Both X (whether a song is explicit) and Y (the number of explicit songs in a playlist of size n) naturally fit Bernoulli and Binomial distributions, respectively. Since X can only be 0 (not explicit) or 1 (explicit), it follows a Bernoulli distribution with parameter p (the probability that a given song is explicit). Meanwhile, Y is the sum of n such independent Bernoulli trials, so it follows a Binomial( n, p) distribution, representing the count of explicit songs among the n total songs."
   ]
  },
  {
   "cell_type": "code",
   "execution_count": 2,
   "id": "79ea858d",
   "metadata": {},
   "outputs": [
    {
     "name": "stdout",
     "output_type": "stream",
     "text": [
      "MLE for p: 0.2088607594936709\n",
      "Probability that at least 10 out of 50 songs are explicit: 0.6166313793717202\n"
     ]
    }
   ],
   "source": [
    "df = pd.read_csv('ds4420_spotify.csv')\n",
    "\n",
    "# Compute the MLE for p\n",
    "p_hat = df['explicit'].mean()\n",
    "\n",
    "# Probability that Y >= 10 for n = 50\n",
    "p_at_least_10 = 0\n",
    "for k in range(10, 51):\n",
    "    p_at_least_10 += comb(50, k) * (p_hat**k) * ((1 - p_hat)**(50 - k))\n",
    "\n",
    "print(\"MLE for p:\", p_hat)\n",
    "print(\"Probability that at least 10 out of 50 songs are explicit:\", p_at_least_10)"
   ]
  }
 ],
 "metadata": {
  "kernelspec": {
   "display_name": "Python 3 (ipykernel)",
   "language": "python",
   "name": "python3"
  },
  "language_info": {
   "codemirror_mode": {
    "name": "ipython",
    "version": 3
   },
   "file_extension": ".py",
   "mimetype": "text/x-python",
   "name": "python",
   "nbconvert_exporter": "python",
   "pygments_lexer": "ipython3",
   "version": "3.9.18"
  }
 },
 "nbformat": 4,
 "nbformat_minor": 5
}
