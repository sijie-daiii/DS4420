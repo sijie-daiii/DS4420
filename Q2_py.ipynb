{
 "cells": [
  {
   "cell_type": "markdown",
   "id": "ed0d9150",
   "metadata": {},
   "source": [
    "### (a) Discussion\n",
    "One reason to examine the release month of songs is to detect seasonal trends or patterns that might influence a song’s popularity. For instance, if certain months tend to generate higher listener engagement or coincide with specific events (e.g., summer break or holiday releases), artists and record labels can use this information to optimize their release schedules and promotional efforts."
   ]
  },
  {
   "cell_type": "code",
   "execution_count": 1,
   "id": "35579b12",
   "metadata": {},
   "outputs": [
    {
     "name": "stdout",
     "output_type": "stream",
     "text": [
      "Intel MKL WARNING: Support of Intel(R) Streaming SIMD Extensions 4.2 (Intel(R) SSE4.2) enabled only processors has been deprecated. Intel oneAPI Math Kernel Library 2025.0 will require Intel(R) Advanced Vector Extensions (Intel(R) AVX) instructions.\n",
      "Intel MKL WARNING: Support of Intel(R) Streaming SIMD Extensions 4.2 (Intel(R) SSE4.2) enabled only processors has been deprecated. Intel oneAPI Math Kernel Library 2025.0 will require Intel(R) Advanced Vector Extensions (Intel(R) AVX) instructions.\n"
     ]
    }
   ],
   "source": [
    "import pandas as pd\n",
    "import math"
   ]
  },
  {
   "cell_type": "code",
   "execution_count": 2,
   "id": "3c95cbec",
   "metadata": {},
   "outputs": [
    {
     "name": "stdout",
     "output_type": "stream",
     "text": [
      "MLE for p_i: [0.12025316455696203, 0.03164556962025317, 0.0759493670886076, 0.0379746835443038, 0.10126582278481013, 0.12025316455696203, 0.08227848101265822, 0.06962025316455696, 0.0759493670886076, 0.13924050632911392, 0.08227848101265822, 0.06329113924050633]\n",
      "Probability that each month is represented exactly once: 2.019597956550594e-05\n"
     ]
    }
   ],
   "source": [
    "df = pd.read_csv(\"ds4420_spotify.csv\")\n",
    "\n",
    "counts = df['release_month'].value_counts().sort_index()\n",
    "total_songs = len(df)\n",
    "\n",
    "p_hat = [counts.get(i, 0) / total_songs for i in range(1, 13)]\n",
    "\n",
    "# Probability that each month is represented exactly once in a 12-song playlist\n",
    "prob_each_month_once = math.factorial(12)\n",
    "for i in range(12):\n",
    "    prob_each_month_once *= p_hat[i]\n",
    "\n",
    "print(\"MLE for p_i:\", p_hat)\n",
    "print(\"Probability that each month is represented exactly once:\", prob_each_month_once)"
   ]
  }
 ],
 "metadata": {
  "kernelspec": {
   "display_name": "Python 3 (ipykernel)",
   "language": "python",
   "name": "python3"
  },
  "language_info": {
   "codemirror_mode": {
    "name": "ipython",
    "version": 3
   },
   "file_extension": ".py",
   "mimetype": "text/x-python",
   "name": "python",
   "nbconvert_exporter": "python",
   "pygments_lexer": "ipython3",
   "version": "3.9.18"
  }
 },
 "nbformat": 4,
 "nbformat_minor": 5
}
