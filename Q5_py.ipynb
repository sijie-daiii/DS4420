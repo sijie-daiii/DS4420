{
 "cells": [
  {
   "cell_type": "markdown",
   "id": "cf004ba7",
   "metadata": {},
   "source": [
    "### (a) Discussion\n",
    "A normal distribution is unbounded on both sides, which conflicts with the fact that song durations can never be negative and often cluster within a certain range. Furthermore, song durations tend to exhibit some degree of right skew, whereas the normal distribution assumes symmetry around the mean, suggesting the normal model may not be the most suitable for this feature."
   ]
  },
  {
   "cell_type": "code",
   "execution_count": 1,
   "id": "6dcbb066",
   "metadata": {},
   "outputs": [
    {
     "name": "stdout",
     "output_type": "stream",
     "text": [
      "Intel MKL WARNING: Support of Intel(R) Streaming SIMD Extensions 4.2 (Intel(R) SSE4.2) enabled only processors has been deprecated. Intel oneAPI Math Kernel Library 2025.0 will require Intel(R) Advanced Vector Extensions (Intel(R) AVX) instructions.\n",
      "Intel MKL WARNING: Support of Intel(R) Streaming SIMD Extensions 4.2 (Intel(R) SSE4.2) enabled only processors has been deprecated. Intel oneAPI Math Kernel Library 2025.0 will require Intel(R) Advanced Vector Extensions (Intel(R) AVX) instructions.\n"
     ]
    }
   ],
   "source": [
    "import pandas as pd\n",
    "import numpy as np\n",
    "from scipy.stats import norm"
   ]
  },
  {
   "cell_type": "code",
   "execution_count": 2,
   "id": "9ecea4d3",
   "metadata": {},
   "outputs": [
    {
     "name": "stdout",
     "output_type": "stream",
     "text": [
      "Estimated mu (seconds):    233.83\n",
      "Estimated sigma (seconds): 87.81\n",
      "P(X > 4 min)         = 0.4720\n",
      "P(2 min < X < 5 min) = 0.6770\n",
      "P(X < 1 min)         = 0.0239\n"
     ]
    }
   ],
   "source": [
    "df = pd.read_csv(\"ds4420_spotify.csv\") \n",
    "durations = df[\"duration_s\"]         \n",
    "\n",
    "# MLEs for Normal(µ, σ)\n",
    "mu_hat = durations.mean()\n",
    "sigma_hat = durations.std(ddof=1) \n",
    "\n",
    "print(f\"Estimated mu (seconds):    {mu_hat:.2f}\")\n",
    "print(f\"Estimated sigma (seconds): {sigma_hat:.2f}\")\n",
    "\n",
    "# Calculate probabilities\n",
    "# (a) Probability duration > 4 minutes (240 seconds)\n",
    "p_longer_than_4 = 1 - norm.cdf(240, loc=mu_hat, scale=sigma_hat)\n",
    "\n",
    "# (b) Probability duration is between 2 (120s) and 5 (300s) minutes\n",
    "p_between_2_5 = norm.cdf(300, loc=mu_hat, scale=sigma_hat) - norm.cdf(120, loc=mu_hat, scale=sigma_hat)\n",
    "\n",
    "# (c) Probability duration < 1 minute (60 seconds)\n",
    "p_less_than_1 = norm.cdf(60, loc=mu_hat, scale=sigma_hat)\n",
    "\n",
    "print(f\"P(X > 4 min)         = {p_longer_than_4:.4f}\")\n",
    "print(f\"P(2 min < X < 5 min) = {p_between_2_5:.4f}\")\n",
    "print(f\"P(X < 1 min)         = {p_less_than_1:.4f}\")"
   ]
  }
 ],
 "metadata": {
  "kernelspec": {
   "display_name": "Python 3 (ipykernel)",
   "language": "python",
   "name": "python3"
  },
  "language_info": {
   "codemirror_mode": {
    "name": "ipython",
    "version": 3
   },
   "file_extension": ".py",
   "mimetype": "text/x-python",
   "name": "python",
   "nbconvert_exporter": "python",
   "pygments_lexer": "ipython3",
   "version": "3.9.18"
  }
 },
 "nbformat": 4,
 "nbformat_minor": 5
}
