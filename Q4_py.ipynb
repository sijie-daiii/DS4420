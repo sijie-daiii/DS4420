{
 "cells": [
  {
   "cell_type": "markdown",
   "id": "1ea88258",
   "metadata": {},
   "source": [
    "### (a) Discussion\n",
    "An exponential distribution generally assumes a “memoryless” property (i.e., the probability of continuing does not depend on how long something has lasted), which does not align with how songs are typically structured. In reality, song durations often cluster around three to four minutes, have both practical minimum lengths (e.g., intros, refrain) and typical maximum lengths, so an exponential model is unlikely to accurately capture this distribution."
   ]
  },
  {
   "cell_type": "code",
   "execution_count": 1,
   "id": "beed6eca",
   "metadata": {},
   "outputs": [
    {
     "name": "stdout",
     "output_type": "stream",
     "text": [
      "Intel MKL WARNING: Support of Intel(R) Streaming SIMD Extensions 4.2 (Intel(R) SSE4.2) enabled only processors has been deprecated. Intel oneAPI Math Kernel Library 2025.0 will require Intel(R) Advanced Vector Extensions (Intel(R) AVX) instructions.\n",
      "Intel MKL WARNING: Support of Intel(R) Streaming SIMD Extensions 4.2 (Intel(R) SSE4.2) enabled only processors has been deprecated. Intel oneAPI Math Kernel Library 2025.0 will require Intel(R) Advanced Vector Extensions (Intel(R) AVX) instructions.\n"
     ]
    }
   ],
   "source": [
    "import pandas as pd\n",
    "import numpy as np\n",
    "from scipy.stats import expon"
   ]
  },
  {
   "cell_type": "code",
   "execution_count": 2,
   "id": "bd7a93fe",
   "metadata": {},
   "outputs": [
    {
     "name": "stdout",
     "output_type": "stream",
     "text": [
      "Estimated θ (seconds): 233.83\n",
      "P(X > 4 min):          0.3583\n",
      "P(2 min < X < 5 min):  0.3214\n",
      "P(X < 1 min):          0.2263\n"
     ]
    }
   ],
   "source": [
    "df = pd.read_csv(\"ds4420_spotify.csv\") \n",
    "durations = df[\"duration_s\"]          \n",
    "\n",
    "# MLE of θ \n",
    "theta_hat = durations.mean()\n",
    "print(f\"Estimated θ (seconds): {theta_hat:.2f}\")\n",
    "\n",
    "# Compute probabilities\n",
    "# (a) Probability the duration is longer than 4 minutes (240 seconds)\n",
    "p_longer_4min = 1 - expon.cdf(240, scale=theta_hat)\n",
    "\n",
    "# (b) Probability the duration is between 2 minutes (120s) and 5 minutes (300s)\n",
    "p_between_2_5min = expon.cdf(300, scale=theta_hat) - expon.cdf(120, scale=theta_hat)\n",
    "\n",
    "# (c) Probability the duration is less than 1 minute (60 seconds)\n",
    "p_less_1min = expon.cdf(60, scale=theta_hat)\n",
    "\n",
    "print(f\"P(X > 4 min):          {p_longer_4min:.4f}\")\n",
    "print(f\"P(2 min < X < 5 min):  {p_between_2_5min:.4f}\")\n",
    "print(f\"P(X < 1 min):          {p_less_1min:.4f}\")"
   ]
  }
 ],
 "metadata": {
  "kernelspec": {
   "display_name": "Python 3 (ipykernel)",
   "language": "python",
   "name": "python3"
  },
  "language_info": {
   "codemirror_mode": {
    "name": "ipython",
    "version": 3
   },
   "file_extension": ".py",
   "mimetype": "text/x-python",
   "name": "python",
   "nbconvert_exporter": "python",
   "pygments_lexer": "ipython3",
   "version": "3.9.18"
  }
 },
 "nbformat": 4,
 "nbformat_minor": 5
}
